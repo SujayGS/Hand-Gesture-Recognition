{
  "cells": [
    {
      "cell_type": "code",
      "execution_count": 1,
      "metadata": {
        "id": "NHSQFU9x7Nao"
      },
      "outputs": [],
      "source": [
        "import tensorflow as tf\n",
        "from tensorflow.keras.preprocessing.image import ImageDataGenerator\n",
        "from tensorflow.keras.applications import MobileNetV2\n",
        "from tensorflow.keras.models import Model\n",
        "from tensorflow.keras.layers import Dense, GlobalAveragePooling2D\n",
        "from tensorflow.keras.optimizers import Adam"
      ]
    },
    {
      "cell_type": "code",
      "execution_count": 2,
      "metadata": {
        "colab": {
          "base_uri": "https://localhost:8080/"
        },
        "id": "WqXWntwC7Or_",
        "outputId": "5798a882-6957-4ae2-f143-f7222e36ae0c"
      },
      "outputs": [
        {
          "name": "stdout",
          "output_type": "stream",
          "text": [
            "WARNING:tensorflow:Mixed precision compatibility check (mixed_float16): WARNING\n",
            "The dtype policy mixed_float16 may run slowly because this machine does not have a GPU. Only Nvidia GPUs with compute capability of at least 7.0 run quickly with mixed_float16.\n",
            "If you will use compatible GPU(s) not attached to this host, e.g. by running a multi-worker model, you can ignore this warning. This message will only be logged once\n"
          ]
        }
      ],
      "source": [
        "# Enable mixed precision training\n",
        "from tensorflow.keras.mixed_precision import set_global_policy\n",
        "set_global_policy('mixed_float16')\n"
      ]
    },
    {
      "cell_type": "code",
      "execution_count": 4,
      "metadata": {
        "id": "EO0CswFR7OvE"
      },
      "outputs": [],
      "source": [
        "# Define paths to your dataset\n",
        "train_data_dir = '/Users/sujaykaushik/Documents/Msc DataScience/Project Dissertation/All Files (Code & Dataset)/Sign_Lang_Custom_Dataset _Final copy'\n",
        "validation_data_dir = '/Users/sujaykaushik/Documents/Msc DataScience/Project Dissertation/All Files (Code & Dataset)/Sign_Lang_Custom_Dataset _Final copy'"
      ]
    },
    {
      "cell_type": "code",
      "execution_count": 36,
      "metadata": {
        "id": "d8z3kAkg7Oxr"
      },
      "outputs": [],
      "source": [
        "# Image dimensions\n",
        "img_height, img_width = 128,128\n",
        "batch_size = 32  # Increased batch size for faster training"
      ]
    },
    {
      "cell_type": "code",
      "execution_count": 37,
      "metadata": {
        "colab": {
          "base_uri": "https://localhost:8080/"
        },
        "id": "4a1FV2NS7O0S",
        "outputId": "ced1ed82-6294-48f5-be28-d0430feaadfa"
      },
      "outputs": [
        {
          "name": "stdout",
          "output_type": "stream",
          "text": [
            "Found 125627 images belonging to 36 classes.\n",
            "Found 125627 images belonging to 36 classes.\n"
          ]
        }
      ],
      "source": [
        "# Data augmentation and normalization\n",
        "train_datagen = ImageDataGenerator(\n",
        "    rescale=1./255,\n",
        "    shear_range=0.2,\n",
        "    zoom_range=0.2,\n",
        "    horizontal_flip=True\n",
        ")\n",
        "\n",
        "validation_datagen = ImageDataGenerator(rescale=1./255)\n",
        "\n",
        "train_generator = train_datagen.flow_from_directory(\n",
        "    train_data_dir,\n",
        "    target_size=(img_height, img_width),\n",
        "    batch_size=batch_size,\n",
        "    class_mode='categorical'\n",
        ")\n",
        "\n",
        "validation_generator = validation_datagen.flow_from_directory(\n",
        "    validation_data_dir,\n",
        "    target_size=(img_height, img_width),\n",
        "    batch_size=batch_size,\n",
        "    class_mode='categorical'\n",
        ")"
      ]
    },
    {
      "cell_type": "code",
      "execution_count": 38,
      "metadata": {},
      "outputs": [],
      "source": [
        "import ssl\n",
        "ssl._create_default_https_context = ssl._create_unverified_context"
      ]
    },
    {
      "cell_type": "code",
      "execution_count": 39,
      "metadata": {
        "colab": {
          "base_uri": "https://localhost:8080/"
        },
        "id": "eV3KAtga7O3b",
        "outputId": "2d26e785-aab1-4623-eaf6-195ccfd5868b"
      },
      "outputs": [
        {
          "name": "stdout",
          "output_type": "stream",
          "text": [
            "Downloading data from https://storage.googleapis.com/tensorflow/keras-applications/mobilenet_v2/mobilenet_v2_weights_tf_dim_ordering_tf_kernels_1.0_128_no_top.h5\n",
            "9406464/9406464 [==============================] - 1s 0us/step\n"
          ]
        }
      ],
      "source": [
        "# Load the MobileNetV2 model without the top layers\n",
        "base_model = MobileNetV2(weights='imagenet', include_top=False, input_shape=(img_height, img_width, 3))\n",
        "# Add custom layers on top of the base model\n",
        "x = base_model.output\n",
        "x = GlobalAveragePooling2D()(x)\n",
        "x = Dense(1024, activation='relu')(x)\n",
        "predictions = Dense(train_generator.num_classes, activation='softmax')(x)"
      ]
    },
    {
      "cell_type": "code",
      "execution_count": 40,
      "metadata": {
        "id": "2mSEjyVq7O6A"
      },
      "outputs": [],
      "source": [
        "# Define the complete model\n",
        "model = Model(inputs=base_model.input, outputs=predictions)\n"
      ]
    },
    {
      "cell_type": "code",
      "execution_count": 41,
      "metadata": {
        "id": "QrzWoZ7S7O84"
      },
      "outputs": [],
      "source": [
        "# Freeze the base layers\n",
        "for layer in base_model.layers:\n",
        "    layer.trainable = False"
      ]
    },
    {
      "cell_type": "code",
      "execution_count": 42,
      "metadata": {
        "id": "piuSb1Vz7O_v"
      },
      "outputs": [
        {
          "name": "stderr",
          "output_type": "stream",
          "text": [
            "WARNING:absl:At this time, the v2.11+ optimizer `tf.keras.optimizers.Adam` runs slowly on M1/M2 Macs, please use the legacy Keras optimizer instead, located at `tf.keras.optimizers.legacy.Adam`.\n",
            "WARNING:absl:There is a known slowdown when using v2.11+ Keras optimizers on M1/M2 Macs. Falling back to the legacy Keras optimizer, i.e., `tf.keras.optimizers.legacy.Adam`.\n"
          ]
        }
      ],
      "source": [
        "# Compile the model with mixed precision policy\n",
        "model.compile(optimizer=Adam(learning_rate=0.001), loss='categorical_crossentropy', metrics=['accuracy'])"
      ]
    },
    {
      "cell_type": "code",
      "execution_count": 43,
      "metadata": {
        "id": "9nzd6rlG7kuX"
      },
      "outputs": [],
      "source": [
        "# Specify the path to save the entire model\n",
        "model_save_path = 'All Files (Code & Dataset)/MyModel/Save1_Mobilenet.h5'"
      ]
    },
    {
      "cell_type": "code",
      "execution_count": 44,
      "metadata": {
        "id": "D-jIetpd7kxN"
      },
      "outputs": [],
      "source": [
        "# Create a ModelCheckpoint callback to save the model during training\n",
        "cp_callback = tf.keras.callbacks.ModelCheckpoint(\n",
        "    model_save_path, verbose=1, save_weights_only=False\n",
        ")"
      ]
    },
    {
      "cell_type": "code",
      "execution_count": 45,
      "metadata": {
        "id": "fZS9oQqQ7kzz"
      },
      "outputs": [],
      "source": [
        "# Create an EarlyStopping callback to stop training early if the validation loss doesn't improve\n",
        "es_callback = tf.keras.callbacks.EarlyStopping(patience=80, verbose=1)"
      ]
    },
    {
      "cell_type": "code",
      "execution_count": 46,
      "metadata": {
        "id": "0dbpeYuu7k2K"
      },
      "outputs": [],
      "source": [
        "# Function to print a message every 5 minutes\n",
        "import time\n",
        "def print_keep_alive():\n",
        "    while True:\n",
        "        print(\"Colab session is active.\")\n",
        "        time.sleep(300)  # Wait for 5 minutes"
      ]
    },
    {
      "cell_type": "code",
      "execution_count": 47,
      "metadata": {
        "colab": {
          "base_uri": "https://localhost:8080/"
        },
        "id": "jeIkKAr67k5C",
        "outputId": "72134bc5-fdd4-4147-fb01-f7ff88b2761c"
      },
      "outputs": [
        {
          "name": "stdout",
          "output_type": "stream",
          "text": [
            "Colab session is active.\n"
          ]
        }
      ],
      "source": [
        "# Start the keep-alive loop in the background\n",
        "import threading\n",
        "keep_alive_thread = threading.Thread(target=print_keep_alive)\n",
        "keep_alive_thread.daemon = True\n",
        "keep_alive_thread.start()\n"
      ]
    },
    {
      "cell_type": "code",
      "execution_count": 48,
      "metadata": {
        "colab": {
          "base_uri": "https://localhost:8080/"
        },
        "id": "R61LcehL750m",
        "outputId": "53110d44-f411-4b4b-928c-c30e38bad989"
      },
      "outputs": [
        {
          "name": "stdout",
          "output_type": "stream",
          "text": [
            "Epoch 1/100\n",
            " 252/3925 [>.............................] - ETA: 12:30 - loss: 0.5046 - accuracy: 0.8640Colab session is active.\n",
            "1414/3925 [=========>....................] - ETA: 7:51 - loss: 0.1788 - accuracy: 0.9481Colab session is active.\n",
            "1586/3925 [===========>..................] - ETA: 7:17 - loss: 0.1668 - accuracy: 0.9514Colab session is active.\n",
            "1891/3925 [=============>................] - ETA: 6:17 - loss: 0.1505 - accuracy: 0.9559Colab session is active.\n",
            "3063/3925 [======================>.......] - ETA: 2:39 - loss: 0.1172 - accuracy: 0.9651Colab session is active.\n",
            "3232/3925 [=======================>......] - ETA: 2:07 - loss: 0.1135 - accuracy: 0.9661Colab session is active.\n",
            "3533/3925 [==========================>...] - ETA: 1:12 - loss: 0.1093 - accuracy: 0.9673Colab session is active.\n",
            "3925/3925 [==============================] - ETA: 0s - loss: 0.1039 - accuracy: 0.9689Colab session is active.\n",
            "Colab session is active.\n",
            "Colab session is active.\n",
            "Colab session is active.\n",
            "Colab session is active.\n",
            "Colab session is active.\n",
            "\n",
            "Epoch 1: saving model to All Files (Code & Dataset)/MyModel/Save1_Mobilenet.h5\n",
            "3925/3925 [==============================] - 1296s 330ms/step - loss: 0.1039 - accuracy: 0.9689 - val_loss: 0.1821 - val_accuracy: 0.9408\n",
            "Epoch 2/100\n",
            " 947/3925 [======>.......................] - ETA: 8:59 - loss: 0.0482 - accuracy: 0.9855Colab session is active.\n",
            "1118/3925 [=======>......................] - ETA: 8:28 - loss: 0.0481 - accuracy: 0.9856Colab session is active.\n",
            "1421/3925 [=========>....................] - ETA: 7:33 - loss: 0.0473 - accuracy: 0.9857Colab session is active.\n",
            "2607/3925 [==================>...........] - ETA: 3:58 - loss: 0.0461 - accuracy: 0.9861Colab session is active.\n",
            "2776/3925 [====================>.........] - ETA: 3:27 - loss: 0.0460 - accuracy: 0.9862Colab session is active.\n",
            "3078/3925 [======================>.......] - ETA: 2:33 - loss: 0.0462 - accuracy: 0.9862Colab session is active.\n",
            "3925/3925 [==============================] - ETA: 0s - loss: 0.0444 - accuracy: 0.9867Colab session is active.\n",
            "Colab session is active.\n",
            "Colab session is active.\n",
            "Colab session is active.\n",
            "Colab session is active.\n",
            "Colab session is active.\n",
            "\n",
            "Epoch 2: saving model to All Files (Code & Dataset)/MyModel/Save1_Mobilenet.h5\n",
            "3925/3925 [==============================] - 1268s 323ms/step - loss: 0.0444 - accuracy: 0.9867 - val_loss: 0.1563 - val_accuracy: 0.9604\n",
            "Epoch 3/100\n",
            " 572/3925 [===>..........................] - ETA: 10:08 - loss: 0.0401 - accuracy: 0.9891Colab session is active.\n",
            " 743/3925 [====>.........................] - ETA: 9:37 - loss: 0.0414 - accuracy: 0.9887Colab session is active.\n",
            "1044/3925 [======>.......................] - ETA: 8:43 - loss: 0.0390 - accuracy: 0.9891Colab session is active.\n",
            "2226/3925 [================>.............] - ETA: 5:08 - loss: 0.0354 - accuracy: 0.9898Colab session is active.\n",
            "2396/3925 [=================>............] - ETA: 4:37 - loss: 0.0351 - accuracy: 0.9900Colab session is active.\n",
            "2698/3925 [===================>..........] - ETA: 3:42 - loss: 0.0350 - accuracy: 0.9900Colab session is active.\n",
            "3873/3925 [============================>.] - ETA: 9s - loss: 0.0353 - accuracy: 0.9902Colab session is active.\n",
            "3925/3925 [==============================] - ETA: 0s - loss: 0.0351 - accuracy: 0.9903Colab session is active.\n",
            "Colab session is active.\n",
            "Colab session is active.\n",
            "Colab session is active.\n",
            "Colab session is active.\n",
            "\n",
            "Epoch 3: saving model to All Files (Code & Dataset)/MyModel/Save1_Mobilenet.h5\n",
            "3925/3925 [==============================] - 1278s 326ms/step - loss: 0.0351 - accuracy: 0.9903 - val_loss: 0.1780 - val_accuracy: 0.9614\n",
            "Epoch 4/100\n",
            " 143/3925 [>.............................] - ETA: 11:30 - loss: 0.0197 - accuracy: 0.9948Colab session is active.\n",
            " 312/3925 [=>............................] - ETA: 10:59 - loss: 0.0217 - accuracy: 0.9932Colab session is active.\n",
            " 612/3925 [===>..........................] - ETA: 10:05 - loss: 0.0206 - accuracy: 0.9939Colab session is active.\n",
            "1777/3925 [============>.................] - ETA: 6:34 - loss: 0.0291 - accuracy: 0.9922Colab session is active.\n",
            "1946/3925 [=============>................] - ETA: 6:03 - loss: 0.0294 - accuracy: 0.9923Colab session is active.\n",
            "2245/3925 [================>.............] - ETA: 5:08 - loss: 0.0285 - accuracy: 0.9925Colab session is active.\n",
            "3404/3925 [=========================>....] - ETA: 1:35 - loss: 0.0276 - accuracy: 0.9928Colab session is active.\n",
            "3573/3925 [==========================>...] - ETA: 1:04 - loss: 0.0281 - accuracy: 0.9926Colab session is active.\n",
            "3872/3925 [============================>.] - ETA: 9s - loss: 0.0281 - accuracy: 0.9926Colab session is active.\n",
            "3925/3925 [==============================] - ETA: 0s - loss: 0.0281 - accuracy: 0.9926Colab session is active.\n",
            "Colab session is active.\n",
            "Colab session is active.\n",
            "Colab session is active.\n",
            "Colab session is active.\n",
            "\n",
            "Epoch 4: saving model to All Files (Code & Dataset)/MyModel/Save1_Mobilenet.h5\n",
            "3925/3925 [==============================] - 1301s 331ms/step - loss: 0.0281 - accuracy: 0.9926 - val_loss: 0.0879 - val_accuracy: 0.9756\n",
            "Epoch 5/100\n",
            "  62/3925 [..............................] - ETA: 11:37 - loss: 0.0182 - accuracy: 0.9960Colab session is active.\n",
            "1243/3925 [========>.....................] - ETA: 8:06 - loss: 0.0234 - accuracy: 0.9935Colab session is active.\n",
            "1413/3925 [=========>....................] - ETA: 7:35 - loss: 0.0248 - accuracy: 0.9934Colab session is active.\n",
            "1717/3925 [============>.................] - ETA: 6:40 - loss: 0.0258 - accuracy: 0.9931Colab session is active.\n",
            "2889/3925 [=====================>........] - ETA: 3:08 - loss: 0.0253 - accuracy: 0.9935Colab session is active.\n",
            "3060/3925 [======================>.......] - ETA: 2:37 - loss: 0.0262 - accuracy: 0.9933Colab session is active.\n",
            "3358/3925 [========================>.....] - ETA: 1:43 - loss: 0.0255 - accuracy: 0.9935Colab session is active.\n",
            "3925/3925 [==============================] - ETA: 0s - loss: 0.0266 - accuracy: 0.9933Colab session is active.\n",
            "Colab session is active.\n",
            "Colab session is active.\n",
            "Colab session is active.\n",
            "Colab session is active.\n",
            "Colab session is active.\n",
            "\n",
            "Epoch 5: saving model to All Files (Code & Dataset)/MyModel/Save1_Mobilenet.h5\n",
            "3925/3925 [==============================] - 1297s 331ms/step - loss: 0.0266 - accuracy: 0.9933 - val_loss: 0.0601 - val_accuracy: 0.9845\n",
            "Epoch 6/100\n",
            " 690/3925 [====>.........................] - ETA: 10:00 - loss: 0.0201 - accuracy: 0.9952Colab session is active.\n",
            " 858/3925 [=====>........................] - ETA: 9:28 - loss: 0.0213 - accuracy: 0.9946Colab session is active.\n",
            "1153/3925 [=======>......................] - ETA: 8:34 - loss: 0.0202 - accuracy: 0.9950Colab session is active.\n",
            "2304/3925 [================>.............] - ETA: 5:01 - loss: 0.0227 - accuracy: 0.9946Colab session is active.\n",
            "2471/3925 [=================>............] - ETA: 4:30 - loss: 0.0225 - accuracy: 0.9947Colab session is active.\n",
            "2767/3925 [====================>.........] - ETA: 3:35 - loss: 0.0227 - accuracy: 0.9947Colab session is active.\n",
            "3915/3925 [============================>.] - ETA: 1s - loss: 0.0233 - accuracy: 0.9945Colab session is active.\n",
            "3925/3925 [==============================] - ETA: 0s - loss: 0.0233 - accuracy: 0.9945Colab session is active.\n",
            "Colab session is active.\n",
            "Colab session is active.\n",
            "Colab session is active.\n",
            "Colab session is active.\n",
            "\n",
            "Epoch 6: saving model to All Files (Code & Dataset)/MyModel/Save1_Mobilenet.h5\n",
            "3925/3925 [==============================] - 1317s 336ms/step - loss: 0.0233 - accuracy: 0.9945 - val_loss: 0.0730 - val_accuracy: 0.9830\n",
            "Epoch 7/100\n",
            "  58/3925 [..............................] - ETA: 12:00 - loss: 0.0288 - accuracy: 0.9952Colab session is active.\n",
            " 223/3925 [>.............................] - ETA: 11:34 - loss: 0.0216 - accuracy: 0.9959Colab session is active.\n",
            " 516/3925 [==>...........................] - ETA: 10:38 - loss: 0.0160 - accuracy: 0.9959Colab session is active.\n",
            "1655/3925 [===========>..................] - ETA: 7:06 - loss: 0.0229 - accuracy: 0.9949Colab session is active.\n",
            "1820/3925 [============>.................] - ETA: 6:35 - loss: 0.0228 - accuracy: 0.9949Colab session is active.\n",
            "2111/3925 [===============>..............] - ETA: 5:40 - loss: 0.0224 - accuracy: 0.9951Colab session is active.\n",
            "3251/3925 [=======================>......] - ETA: 2:06 - loss: 0.0234 - accuracy: 0.9948Colab session is active.\n",
            "3414/3925 [=========================>....] - ETA: 1:36 - loss: 0.0235 - accuracy: 0.9947Colab session is active.\n",
            "3707/3925 [===========================>..] - ETA: 40s - loss: 0.0231 - accuracy: 0.9948Colab session is active.\n",
            "3925/3925 [==============================] - ETA: 0s - loss: 0.0237 - accuracy: 0.9948Colab session is active.\n",
            "Colab session is active.\n",
            "Colab session is active.\n",
            "Colab session is active.\n",
            "Colab session is active.\n",
            "Colab session is active.\n",
            "\n",
            "Epoch 7: saving model to All Files (Code & Dataset)/MyModel/Save1_Mobilenet.h5\n",
            "3925/3925 [==============================] - 1331s 339ms/step - loss: 0.0237 - accuracy: 0.9948 - val_loss: 0.0592 - val_accuracy: 0.9866\n",
            "Epoch 8/100\n",
            " 973/3925 [======>.......................] - ETA: 9:06 - loss: 0.0208 - accuracy: 0.9952Colab session is active.\n",
            "1141/3925 [=======>......................] - ETA: 8:35 - loss: 0.0207 - accuracy: 0.9952Colab session is active.\n",
            "1439/3925 [=========>....................] - ETA: 7:39 - loss: 0.0220 - accuracy: 0.9952Colab session is active.\n",
            "2596/3925 [==================>...........] - ETA: 4:05 - loss: 0.0222 - accuracy: 0.9950Colab session is active.\n",
            "2764/3925 [====================>.........] - ETA: 3:34 - loss: 0.0223 - accuracy: 0.9950Colab session is active.\n",
            "3060/3925 [======================>.......] - ETA: 2:39 - loss: 0.0234 - accuracy: 0.9949Colab session is active.\n",
            "3925/3925 [==============================] - ETA: 0s - loss: 0.0235 - accuracy: 0.9948Colab session is active.\n",
            "Colab session is active.\n",
            "Colab session is active.\n",
            "Colab session is active.\n",
            "Colab session is active.\n",
            "Colab session is active.\n",
            "\n",
            "Epoch 8: saving model to All Files (Code & Dataset)/MyModel/Save1_Mobilenet.h5\n",
            "3925/3925 [==============================] - 19542s 5s/step - loss: 0.0235 - accuracy: 0.9948 - val_loss: 0.0596 - val_accuracy: 0.9879\n",
            "Epoch 9/100\n",
            " 492/3925 [==>...........................] - ETA: 7:38 - loss: 0.0201 - accuracy: 0.9949Colab session is active.\n",
            " 724/3925 [====>.........................] - ETA: 7:07 - loss: 0.0232 - accuracy: 0.9950Colab session is active.\n",
            "1133/3925 [=======>......................] - ETA: 6:13 - loss: 0.0244 - accuracy: 0.9949Colab session is active.\n",
            "2706/3925 [===================>..........] - ETA: 2:44 - loss: 0.0252 - accuracy: 0.9952Colab session is active.\n",
            "2931/3925 [=====================>........] - ETA: 2:14 - loss: 0.0252 - accuracy: 0.9952Colab session is active.\n",
            "3327/3925 [========================>.....] - ETA: 1:21 - loss: 0.0249 - accuracy: 0.9952Colab session is active.\n",
            "3925/3925 [==============================] - ETA: 0s - loss: 0.0254 - accuracy: 0.9951Colab session is active.\n",
            "Colab session is active.\n",
            "Colab session is active.\n",
            "\n",
            "Epoch 9: saving model to All Files (Code & Dataset)/MyModel/Save1_Mobilenet.h5\n",
            "3925/3925 [==============================] - 891s 227ms/step - loss: 0.0254 - accuracy: 0.9951 - val_loss: 0.0466 - val_accuracy: 0.9913\n",
            "Epoch 10/100\n",
            " 673/3925 [====>.........................] - ETA: 6:00 - loss: 0.0181 - accuracy: 0.9964Colab session is active.\n",
            " 950/3925 [======>.......................] - ETA: 5:30 - loss: 0.0156 - accuracy: 0.9966Colab session is active.\n",
            "1448/3925 [==========>...................] - ETA: 4:34 - loss: 0.0173 - accuracy: 0.9965Colab session is active.\n",
            "3320/3925 [========================>.....] - ETA: 1:08 - loss: 0.0199 - accuracy: 0.9958Colab session is active.\n",
            "3587/3925 [==========================>...] - ETA: 38s - loss: 0.0206 - accuracy: 0.9958Colab session is active.\n",
            "3925/3925 [==============================] - ETA: 0s - loss: 0.0214 - accuracy: 0.9956Colab session is active.\n",
            "Colab session is active.\n",
            "Colab session is active.\n",
            "Colab session is active.\n",
            "\n",
            "Epoch 10: saving model to All Files (Code & Dataset)/MyModel/Save1_Mobilenet.h5\n",
            "3925/3925 [==============================] - 874s 223ms/step - loss: 0.0214 - accuracy: 0.9956 - val_loss: 0.0608 - val_accuracy: 0.9895\n",
            "Epoch 11/100\n",
            " 654/3925 [===>..........................] - ETA: 8:20 - loss: 0.0159 - accuracy: 0.9960Colab session is active.\n",
            " 868/3925 [=====>........................] - ETA: 7:41 - loss: 0.0158 - accuracy: 0.9961Colab session is active.\n",
            "1246/3925 [========>.....................] - ETA: 6:39 - loss: 0.0151 - accuracy: 0.9965Colab session is active.\n",
            "2545/3925 [==================>...........] - ETA: 3:37 - loss: 0.0159 - accuracy: 0.9966Colab session is active.\n",
            "2724/3925 [===================>..........] - ETA: 3:10 - loss: 0.0161 - accuracy: 0.9966Colab session is active.\n",
            "3035/3925 [======================>.......] - ETA: 2:22 - loss: 0.0177 - accuracy: 0.9963Colab session is active.\n",
            "3925/3925 [==============================] - ETA: 0s - loss: 0.0201 - accuracy: 0.9961Colab session is active.\n",
            "Colab session is active.\n",
            "Colab session is active.\n",
            "Colab session is active.\n",
            "Colab session is active.\n",
            "Colab session is active.\n",
            "\n",
            "Epoch 11: saving model to All Files (Code & Dataset)/MyModel/Save1_Mobilenet.h5\n",
            "3925/3925 [==============================] - 1286s 328ms/step - loss: 0.0201 - accuracy: 0.9961 - val_loss: 0.0740 - val_accuracy: 0.9871\n",
            "Epoch 12/100\n",
            "  67/3925 [..............................] - ETA: 13:36 - loss: 0.0232 - accuracy: 0.9977Colab session is active.\n",
            " 226/3925 [>.............................] - ETA: 12:18 - loss: 0.0304 - accuracy: 0.9953Colab session is active.\n",
            " 511/3925 [==>...........................] - ETA: 11:07 - loss: 0.0249 - accuracy: 0.9958Colab session is active.\n",
            "1632/3925 [===========>..................] - ETA: 7:21 - loss: 0.0181 - accuracy: 0.9964Colab session is active.\n",
            "1793/3925 [============>.................] - ETA: 6:50 - loss: 0.0178 - accuracy: 0.9963Colab session is active.\n",
            "2063/3925 [==============>...............] - ETA: 6:01 - loss: 0.0183 - accuracy: 0.9962Colab session is active.\n",
            "3182/3925 [=======================>......] - ETA: 2:23 - loss: 0.0191 - accuracy: 0.9963Colab session is active.\n",
            "3361/3925 [========================>.....] - ETA: 1:48 - loss: 0.0185 - accuracy: 0.9963Colab session is active.\n",
            "3678/3925 [===========================>..] - ETA: 47s - loss: 0.0185 - accuracy: 0.9964Colab session is active.\n",
            "3925/3925 [==============================] - ETA: 0s - loss: 0.0191 - accuracy: 0.9964Colab session is active.\n",
            "Colab session is active.\n",
            "Colab session is active.\n",
            "Colab session is active.\n",
            "Colab session is active.\n",
            "Colab session is active.\n",
            "\n",
            "Epoch 12: saving model to All Files (Code & Dataset)/MyModel/Save1_Mobilenet.h5\n",
            "3925/3925 [==============================] - 1396s 356ms/step - loss: 0.0191 - accuracy: 0.9964 - val_loss: 0.0854 - val_accuracy: 0.9871\n",
            "Epoch 13/100\n",
            " 487/3925 [==>...........................] - ETA: 13:57 - loss: 0.0199 - accuracy: 0.9965Colab session is active.\n",
            " 616/3925 [===>..........................] - ETA: 13:23 - loss: 0.0210 - accuracy: 0.9962Colab session is active.\n",
            " 799/3925 [=====>........................] - ETA: 13:19 - loss: 0.0222 - accuracy: 0.9960Colab session is active.\n",
            "1854/3925 [=============>................] - ETA: 7:47 - loss: 0.0221 - accuracy: 0.9961Colab session is active.\n",
            "1995/3925 [==============>...............] - ETA: 7:14 - loss: 0.0232 - accuracy: 0.9959Colab session is active.\n",
            "2269/3925 [================>.............] - ETA: 6:08 - loss: 0.0235 - accuracy: 0.9959Colab session is active.\n",
            "3354/3925 [========================>.....] - ETA: 2:02 - loss: 0.0226 - accuracy: 0.9960Colab session is active.\n",
            "3511/3925 [=========================>....] - ETA: 1:28 - loss: 0.0226 - accuracy: 0.9960Colab session is active.\n",
            "3790/3925 [===========================>..] - ETA: 28s - loss: 0.0218 - accuracy: 0.9961Colab session is active.\n",
            "3925/3925 [==============================] - ETA: 0s - loss: 0.0220 - accuracy: 0.9960Colab session is active.\n",
            "Colab session is active.\n",
            "Colab session is active.\n",
            "Colab session is active.\n",
            "Colab session is active.\n",
            "Colab session is active.\n",
            "\n",
            "Epoch 13: saving model to All Files (Code & Dataset)/MyModel/Save1_Mobilenet.h5\n",
            "3925/3925 [==============================] - 1520s 387ms/step - loss: 0.0220 - accuracy: 0.9960 - val_loss: 0.0766 - val_accuracy: 0.9887\n",
            "Epoch 14/100\n",
            " 575/3925 [===>..........................] - ETA: 9:34 - loss: 0.0120 - accuracy: 0.9980Colab session is active.\n",
            " 756/3925 [====>.........................] - ETA: 9:02 - loss: 0.0163 - accuracy: 0.9972Colab session is active.\n",
            "1077/3925 [=======>......................] - ETA: 8:07 - loss: 0.0174 - accuracy: 0.9970Colab session is active.\n",
            "1919/3925 [=============>................] - ETA: 6:56 - loss: 0.0168 - accuracy: 0.9968Colab session is active.\n",
            "2083/3925 [==============>...............] - ETA: 6:19 - loss: 0.0173 - accuracy: 0.9967Colab session is active.\n",
            "2380/3925 [=================>............] - ETA: 5:14 - loss: 0.0179 - accuracy: 0.9966Colab session is active.\n",
            "3500/3925 [=========================>....] - ETA: 1:24 - loss: 0.0184 - accuracy: 0.9966Colab session is active.\n",
            "3636/3925 [==========================>...] - ETA: 57s - loss: 0.0189 - accuracy: 0.9965Colab session is active.\n",
            "3876/3925 [============================>.] - ETA: 9s - loss: 0.0192 - accuracy: 0.9964 Colab session is active.\n",
            "3925/3925 [==============================] - ETA: 0s - loss: 0.0194 - accuracy: 0.9964Colab session is active.\n",
            "Colab session is active.\n",
            "Colab session is active.\n",
            "Colab session is active.\n",
            "Colab session is active.\n",
            "Colab session is active.\n",
            "\n",
            "Epoch 14: saving model to All Files (Code & Dataset)/MyModel/Save1_Mobilenet.h5\n",
            "3925/3925 [==============================] - 1430s 364ms/step - loss: 0.0194 - accuracy: 0.9964 - val_loss: 0.0917 - val_accuracy: 0.9864\n",
            "Epoch 15/100\n",
            " 851/3925 [=====>........................] - ETA: 10:08 - loss: 0.0163 - accuracy: 0.9967Colab session is active.\n",
            "1006/3925 [======>.......................] - ETA: 9:38 - loss: 0.0159 - accuracy: 0.9968Colab session is active.\n",
            "1282/3925 [========>.....................] - ETA: 8:44 - loss: 0.0158 - accuracy: 0.9967Colab session is active.\n",
            "2344/3925 [================>.............] - ETA: 5:16 - loss: 0.0184 - accuracy: 0.9967Colab session is active.\n",
            "2498/3925 [==================>...........] - ETA: 4:45 - loss: 0.0181 - accuracy: 0.9968Colab session is active.\n",
            "2766/3925 [====================>.........] - ETA: 3:52 - loss: 0.0182 - accuracy: 0.9968Colab session is active.\n",
            "3772/3925 [===========================>..] - ETA: 31s - loss: 0.0188 - accuracy: 0.9968Colab session is active.\n",
            "3913/3925 [============================>.] - ETA: 2s - loss: 0.0193 - accuracy: 0.9968Colab session is active.\n",
            "3925/3925 [==============================] - ETA: 0s - loss: 0.0195 - accuracy: 0.9968Colab session is active.\n",
            "Colab session is active.\n",
            "Colab session is active.\n",
            "Colab session is active.\n",
            "Colab session is active.\n",
            "Colab session is active.\n",
            "Colab session is active.\n",
            "\n",
            "Epoch 15: saving model to All Files (Code & Dataset)/MyModel/Save1_Mobilenet.h5\n",
            "3925/3925 [==============================] - 1475s 376ms/step - loss: 0.0195 - accuracy: 0.9968 - val_loss: 0.0787 - val_accuracy: 0.9901\n",
            "Epoch 16/100\n",
            " 853/3925 [=====>........................] - ETA: 11:36 - loss: 0.0180 - accuracy: 0.9969Colab session is active.\n",
            " 983/3925 [======>.......................] - ETA: 11:11 - loss: 0.0172 - accuracy: 0.9971Colab session is active.\n",
            "1213/3925 [========>.....................] - ETA: 10:24 - loss: 0.0199 - accuracy: 0.9968Colab session is active.\n",
            "2126/3925 [===============>..............] - ETA: 6:57 - loss: 0.0182 - accuracy: 0.9970Colab session is active.\n",
            "2279/3925 [================>.............] - ETA: 6:18 - loss: 0.0184 - accuracy: 0.9970Colab session is active.\n",
            "2539/3925 [==================>...........] - ETA: 5:16 - loss: 0.0186 - accuracy: 0.9969Colab session is active.\n",
            "3506/3925 [=========================>....] - ETA: 1:34 - loss: 0.0185 - accuracy: 0.9969Colab session is active.\n",
            "3630/3925 [==========================>...] - ETA: 1:06 - loss: 0.0182 - accuracy: 0.9970Colab session is active.\n",
            "3867/3925 [============================>.] - ETA: 13s - loss: 0.0192 - accuracy: 0.9968Colab session is active.\n",
            "3925/3925 [==============================] - ETA: 0s - loss: 0.0194 - accuracy: 0.9968Colab session is active.\n",
            "Colab session is active.\n",
            "Colab session is active.\n",
            "Colab session is active.\n",
            "Colab session is active.\n",
            "Colab session is active.\n",
            "\n",
            "Epoch 16: saving model to All Files (Code & Dataset)/MyModel/Save1_Mobilenet.h5\n",
            "3925/3925 [==============================] - 1555s 396ms/step - loss: 0.0194 - accuracy: 0.9968 - val_loss: 0.1100 - val_accuracy: 0.9874\n",
            "Epoch 17/100\n",
            " 638/3925 [===>..........................] - ETA: 11:54 - loss: 0.0220 - accuracy: 0.9965Colab session is active.\n",
            " 781/3925 [====>.........................] - ETA: 11:23 - loss: 0.0205 - accuracy: 0.9966Colab session is active.\n",
            "1023/3925 [======>.......................] - ETA: 10:37 - loss: 0.0202 - accuracy: 0.9967Colab session is active.\n",
            "1922/3925 [=============>................] - ETA: 7:37 - loss: 0.0235 - accuracy: 0.9964Colab session is active.\n",
            "2063/3925 [==============>...............] - ETA: 7:04 - loss: 0.0222 - accuracy: 0.9966Colab session is active.\n",
            "2312/3925 [================>.............] - ETA: 6:06 - loss: 0.0207 - accuracy: 0.9968Colab session is active.\n",
            "3289/3925 [========================>.....] - ETA: 2:22 - loss: 0.0184 - accuracy: 0.9970Colab session is active.\n",
            "3426/3925 [=========================>....] - ETA: 1:52 - loss: 0.0183 - accuracy: 0.9971Colab session is active.\n",
            "3662/3925 [==========================>...] - ETA: 59s - loss: 0.0182 - accuracy: 0.9971Colab session is active.\n",
            "3925/3925 [==============================] - ETA: 0s - loss: 0.0185 - accuracy: 0.9971Colab session is active.\n",
            "Colab session is active.\n",
            "Colab session is active.\n",
            "Colab session is active.\n",
            "Colab session is active.\n",
            "Colab session is active.\n",
            "\n",
            "Epoch 17: saving model to All Files (Code & Dataset)/MyModel/Save1_Mobilenet.h5\n",
            "3925/3925 [==============================] - 1529s 390ms/step - loss: 0.0185 - accuracy: 0.9971 - val_loss: 0.0408 - val_accuracy: 0.9935\n",
            "Epoch 18/100\n",
            " 527/3925 [===>..........................] - ETA: 11:45 - loss: 0.0202 - accuracy: 0.9967Colab session is active.\n",
            " 678/3925 [====>.........................] - ETA: 11:12 - loss: 0.0187 - accuracy: 0.9966Colab session is active.\n",
            " 944/3925 [======>.......................] - ETA: 10:16 - loss: 0.0183 - accuracy: 0.9968Colab session is active.\n",
            "1829/3925 [============>.................] - ETA: 7:49 - loss: 0.0162 - accuracy: 0.9972Colab session is active.\n",
            "1958/3925 [=============>................] - ETA: 7:22 - loss: 0.0162 - accuracy: 0.9972Colab session is active.\n",
            "2194/3925 [===============>..............] - ETA: 6:30 - loss: 0.0165 - accuracy: 0.9973Colab session is active.\n",
            "3112/3925 [======================>.......] - ETA: 3:05 - loss: 0.0176 - accuracy: 0.9971Colab session is active.\n",
            "3227/3925 [=======================>......] - ETA: 2:40 - loss: 0.0176 - accuracy: 0.9971Colab session is active.\n",
            "3497/3925 [=========================>....] - ETA: 1:37 - loss: 0.0189 - accuracy: 0.9970Colab session is active.\n",
            "3925/3925 [==============================] - ETA: 0s - loss: 0.0201 - accuracy: 0.9969Colab session is active.\n",
            "Colab session is active.\n",
            "Colab session is active.\n",
            "Colab session is active.\n",
            "Colab session is active.\n",
            "Colab session is active.\n",
            "\n",
            "Epoch 18: saving model to All Files (Code & Dataset)/MyModel/Save1_Mobilenet.h5\n",
            "3925/3925 [==============================] - 1522s 388ms/step - loss: 0.0201 - accuracy: 0.9969 - val_loss: 0.0968 - val_accuracy: 0.9879\n",
            "Epoch 19/100\n",
            " 385/3925 [=>............................] - ETA: 13:04 - loss: 0.0174 - accuracy: 0.9975Colab session is active.\n",
            " 532/3925 [===>..........................] - ETA: 12:22 - loss: 0.0205 - accuracy: 0.9971Colab session is active.\n",
            " 793/3925 [=====>........................] - ETA: 11:16 - loss: 0.0177 - accuracy: 0.9974Colab session is active.\n",
            "1839/3925 [=============>................] - ETA: 7:17 - loss: 0.0184 - accuracy: 0.9971Colab session is active.\n",
            "1967/3925 [==============>...............] - ETA: 6:54 - loss: 0.0178 - accuracy: 0.9971Colab session is active.\n",
            "2208/3925 [===============>..............] - ETA: 6:06 - loss: 0.0173 - accuracy: 0.9972Colab session is activ\n",
            "3209/3925 [=======================>......] - ETA: 2:32 - loss: 0.0191 - accuracy: 0.9971Colab session is active.\n",
            "3358/3925 [========================>.....] - ETA: 2:00 - loss: 0.0186 - accuracy: 0.9971Colab session is active.\n",
            "3623/3925 [==========================>...] - ETA: 1:04 - loss: 0.0192 - accuracy: 0.9971Colab session is active.\n",
            "3925/3925 [==============================] - ETA: 0s - loss: 0.0195 - accuracy: 0.9970Colab session is active.\n",
            "Colab session is active.\n",
            "Colab session is active.\n",
            "Colab session is active.\n",
            "Colab session is active.\n",
            "Colab session is active.\n",
            "\n",
            "Epoch 19: saving model to All Files (Code & Dataset)/MyModel/Save1_Mobilenet.h5\n",
            "3925/3925 [==============================] - 1413s 360ms/step - loss: 0.0195 - accuracy: 0.9970 - val_loss: 0.0797 - val_accuracy: 0.9896\n",
            "Epoch 20/100\n",
            " 878/3925 [=====>........................] - ETA: 9:59 - loss: 0.0114 - accuracy: 0.9980Colab session is active.\n",
            "1034/3925 [======>.......................] - ETA: 9:29 - loss: 0.0111 - accuracy: 0.9980Colab session is active.\n",
            "1312/3925 [=========>....................] - ETA: 8:35 - loss: 0.0118 - accuracy: 0.9980Colab session is active.\n",
            "1766/3925 [============>.................] - ETA: 7:17 - loss: 0.0137 - accuracy: 0.9979"
          ]
        },
        {
          "ename": "KeyboardInterrupt",
          "evalue": "",
          "output_type": "error",
          "traceback": [
            "\u001b[0;31m---------------------------------------------------------------------------\u001b[0m",
            "\u001b[0;31mKeyboardInterrupt\u001b[0m                         Traceback (most recent call last)",
            "Cell \u001b[0;32mIn[48], line 2\u001b[0m\n\u001b[1;32m      1\u001b[0m \u001b[38;5;66;03m# Training the model\u001b[39;00m\n\u001b[0;32m----> 2\u001b[0m history \u001b[38;5;241m=\u001b[39m \u001b[43mmodel\u001b[49m\u001b[38;5;241;43m.\u001b[39;49m\u001b[43mfit\u001b[49m\u001b[43m(\u001b[49m\u001b[43mtrain_generator\u001b[49m\u001b[43m,\u001b[49m\n\u001b[1;32m      3\u001b[0m \u001b[43m    \u001b[49m\u001b[43msteps_per_epoch\u001b[49m\u001b[38;5;241;43m=\u001b[39;49m\u001b[43mtrain_generator\u001b[49m\u001b[38;5;241;43m.\u001b[39;49m\u001b[43msamples\u001b[49m\u001b[43m \u001b[49m\u001b[38;5;241;43m/\u001b[39;49m\u001b[38;5;241;43m/\u001b[39;49m\u001b[43m \u001b[49m\u001b[43mbatch_size\u001b[49m\u001b[43m,\u001b[49m\n\u001b[1;32m      4\u001b[0m \u001b[43m    \u001b[49m\u001b[43mvalidation_data\u001b[49m\u001b[38;5;241;43m=\u001b[39;49m\u001b[43mvalidation_generator\u001b[49m\u001b[43m,\u001b[49m\n\u001b[1;32m      5\u001b[0m \u001b[43m    \u001b[49m\u001b[43mvalidation_steps\u001b[49m\u001b[38;5;241;43m=\u001b[39;49m\u001b[43mvalidation_generator\u001b[49m\u001b[38;5;241;43m.\u001b[39;49m\u001b[43msamples\u001b[49m\u001b[43m \u001b[49m\u001b[38;5;241;43m/\u001b[39;49m\u001b[38;5;241;43m/\u001b[39;49m\u001b[43m \u001b[49m\u001b[43mbatch_size\u001b[49m\u001b[43m,\u001b[49m\n\u001b[1;32m      6\u001b[0m \u001b[43m    \u001b[49m\u001b[43mepochs\u001b[49m\u001b[38;5;241;43m=\u001b[39;49m\u001b[38;5;241;43m100\u001b[39;49m\u001b[43m,\u001b[49m\n\u001b[1;32m      7\u001b[0m \u001b[43m    \u001b[49m\u001b[43mcallbacks\u001b[49m\u001b[38;5;241;43m=\u001b[39;49m\u001b[43m[\u001b[49m\u001b[43mcp_callback\u001b[49m\u001b[43m,\u001b[49m\u001b[43m \u001b[49m\u001b[43mes_callback\u001b[49m\u001b[43m]\u001b[49m\n\u001b[1;32m      8\u001b[0m \u001b[43m)\u001b[49m\n",
            "File \u001b[0;32m/Library/Frameworks/Python.framework/Versions/3.11/lib/python3.11/site-packages/keras/src/utils/traceback_utils.py:65\u001b[0m, in \u001b[0;36mfilter_traceback.<locals>.error_handler\u001b[0;34m(*args, **kwargs)\u001b[0m\n\u001b[1;32m     63\u001b[0m filtered_tb \u001b[38;5;241m=\u001b[39m \u001b[38;5;28;01mNone\u001b[39;00m\n\u001b[1;32m     64\u001b[0m \u001b[38;5;28;01mtry\u001b[39;00m:\n\u001b[0;32m---> 65\u001b[0m     \u001b[38;5;28;01mreturn\u001b[39;00m \u001b[43mfn\u001b[49m\u001b[43m(\u001b[49m\u001b[38;5;241;43m*\u001b[39;49m\u001b[43margs\u001b[49m\u001b[43m,\u001b[49m\u001b[43m \u001b[49m\u001b[38;5;241;43m*\u001b[39;49m\u001b[38;5;241;43m*\u001b[39;49m\u001b[43mkwargs\u001b[49m\u001b[43m)\u001b[49m\n\u001b[1;32m     66\u001b[0m \u001b[38;5;28;01mexcept\u001b[39;00m \u001b[38;5;167;01mException\u001b[39;00m \u001b[38;5;28;01mas\u001b[39;00m e:\n\u001b[1;32m     67\u001b[0m     filtered_tb \u001b[38;5;241m=\u001b[39m _process_traceback_frames(e\u001b[38;5;241m.\u001b[39m__traceback__)\n",
            "File \u001b[0;32m/Library/Frameworks/Python.framework/Versions/3.11/lib/python3.11/site-packages/keras/src/engine/training.py:1742\u001b[0m, in \u001b[0;36mModel.fit\u001b[0;34m(self, x, y, batch_size, epochs, verbose, callbacks, validation_split, validation_data, shuffle, class_weight, sample_weight, initial_epoch, steps_per_epoch, validation_steps, validation_batch_size, validation_freq, max_queue_size, workers, use_multiprocessing)\u001b[0m\n\u001b[1;32m   1734\u001b[0m \u001b[38;5;28;01mwith\u001b[39;00m tf\u001b[38;5;241m.\u001b[39mprofiler\u001b[38;5;241m.\u001b[39mexperimental\u001b[38;5;241m.\u001b[39mTrace(\n\u001b[1;32m   1735\u001b[0m     \u001b[38;5;124m\"\u001b[39m\u001b[38;5;124mtrain\u001b[39m\u001b[38;5;124m\"\u001b[39m,\n\u001b[1;32m   1736\u001b[0m     epoch_num\u001b[38;5;241m=\u001b[39mepoch,\n\u001b[0;32m   (...)\u001b[0m\n\u001b[1;32m   1739\u001b[0m     _r\u001b[38;5;241m=\u001b[39m\u001b[38;5;241m1\u001b[39m,\n\u001b[1;32m   1740\u001b[0m ):\n\u001b[1;32m   1741\u001b[0m     callbacks\u001b[38;5;241m.\u001b[39mon_train_batch_begin(step)\n\u001b[0;32m-> 1742\u001b[0m     tmp_logs \u001b[38;5;241m=\u001b[39m \u001b[38;5;28;43mself\u001b[39;49m\u001b[38;5;241;43m.\u001b[39;49m\u001b[43mtrain_function\u001b[49m\u001b[43m(\u001b[49m\u001b[43miterator\u001b[49m\u001b[43m)\u001b[49m\n\u001b[1;32m   1743\u001b[0m     \u001b[38;5;28;01mif\u001b[39;00m data_handler\u001b[38;5;241m.\u001b[39mshould_sync:\n\u001b[1;32m   1744\u001b[0m         context\u001b[38;5;241m.\u001b[39masync_wait()\n",
            "File \u001b[0;32m/Library/Frameworks/Python.framework/Versions/3.11/lib/python3.11/site-packages/tensorflow/python/util/traceback_utils.py:150\u001b[0m, in \u001b[0;36mfilter_traceback.<locals>.error_handler\u001b[0;34m(*args, **kwargs)\u001b[0m\n\u001b[1;32m    148\u001b[0m filtered_tb \u001b[38;5;241m=\u001b[39m \u001b[38;5;28;01mNone\u001b[39;00m\n\u001b[1;32m    149\u001b[0m \u001b[38;5;28;01mtry\u001b[39;00m:\n\u001b[0;32m--> 150\u001b[0m   \u001b[38;5;28;01mreturn\u001b[39;00m \u001b[43mfn\u001b[49m\u001b[43m(\u001b[49m\u001b[38;5;241;43m*\u001b[39;49m\u001b[43margs\u001b[49m\u001b[43m,\u001b[49m\u001b[43m \u001b[49m\u001b[38;5;241;43m*\u001b[39;49m\u001b[38;5;241;43m*\u001b[39;49m\u001b[43mkwargs\u001b[49m\u001b[43m)\u001b[49m\n\u001b[1;32m    151\u001b[0m \u001b[38;5;28;01mexcept\u001b[39;00m \u001b[38;5;167;01mException\u001b[39;00m \u001b[38;5;28;01mas\u001b[39;00m e:\n\u001b[1;32m    152\u001b[0m   filtered_tb \u001b[38;5;241m=\u001b[39m _process_traceback_frames(e\u001b[38;5;241m.\u001b[39m__traceback__)\n",
            "File \u001b[0;32m/Library/Frameworks/Python.framework/Versions/3.11/lib/python3.11/site-packages/tensorflow/python/eager/polymorphic_function/polymorphic_function.py:825\u001b[0m, in \u001b[0;36mFunction.__call__\u001b[0;34m(self, *args, **kwds)\u001b[0m\n\u001b[1;32m    822\u001b[0m compiler \u001b[38;5;241m=\u001b[39m \u001b[38;5;124m\"\u001b[39m\u001b[38;5;124mxla\u001b[39m\u001b[38;5;124m\"\u001b[39m \u001b[38;5;28;01mif\u001b[39;00m \u001b[38;5;28mself\u001b[39m\u001b[38;5;241m.\u001b[39m_jit_compile \u001b[38;5;28;01melse\u001b[39;00m \u001b[38;5;124m\"\u001b[39m\u001b[38;5;124mnonXla\u001b[39m\u001b[38;5;124m\"\u001b[39m\n\u001b[1;32m    824\u001b[0m \u001b[38;5;28;01mwith\u001b[39;00m OptionalXlaContext(\u001b[38;5;28mself\u001b[39m\u001b[38;5;241m.\u001b[39m_jit_compile):\n\u001b[0;32m--> 825\u001b[0m   result \u001b[38;5;241m=\u001b[39m \u001b[38;5;28;43mself\u001b[39;49m\u001b[38;5;241;43m.\u001b[39;49m\u001b[43m_call\u001b[49m\u001b[43m(\u001b[49m\u001b[38;5;241;43m*\u001b[39;49m\u001b[43margs\u001b[49m\u001b[43m,\u001b[49m\u001b[43m \u001b[49m\u001b[38;5;241;43m*\u001b[39;49m\u001b[38;5;241;43m*\u001b[39;49m\u001b[43mkwds\u001b[49m\u001b[43m)\u001b[49m\n\u001b[1;32m    827\u001b[0m new_tracing_count \u001b[38;5;241m=\u001b[39m \u001b[38;5;28mself\u001b[39m\u001b[38;5;241m.\u001b[39mexperimental_get_tracing_count()\n\u001b[1;32m    828\u001b[0m without_tracing \u001b[38;5;241m=\u001b[39m (tracing_count \u001b[38;5;241m==\u001b[39m new_tracing_count)\n",
            "File \u001b[0;32m/Library/Frameworks/Python.framework/Versions/3.11/lib/python3.11/site-packages/tensorflow/python/eager/polymorphic_function/polymorphic_function.py:857\u001b[0m, in \u001b[0;36mFunction._call\u001b[0;34m(self, *args, **kwds)\u001b[0m\n\u001b[1;32m    854\u001b[0m   \u001b[38;5;28mself\u001b[39m\u001b[38;5;241m.\u001b[39m_lock\u001b[38;5;241m.\u001b[39mrelease()\n\u001b[1;32m    855\u001b[0m   \u001b[38;5;66;03m# In this case we have created variables on the first call, so we run the\u001b[39;00m\n\u001b[1;32m    856\u001b[0m   \u001b[38;5;66;03m# defunned version which is guaranteed to never create variables.\u001b[39;00m\n\u001b[0;32m--> 857\u001b[0m   \u001b[38;5;28;01mreturn\u001b[39;00m \u001b[38;5;28;43mself\u001b[39;49m\u001b[38;5;241;43m.\u001b[39;49m\u001b[43m_no_variable_creation_fn\u001b[49m\u001b[43m(\u001b[49m\u001b[38;5;241;43m*\u001b[39;49m\u001b[43margs\u001b[49m\u001b[43m,\u001b[49m\u001b[43m \u001b[49m\u001b[38;5;241;43m*\u001b[39;49m\u001b[38;5;241;43m*\u001b[39;49m\u001b[43mkwds\u001b[49m\u001b[43m)\u001b[49m  \u001b[38;5;66;03m# pylint: disable=not-callable\u001b[39;00m\n\u001b[1;32m    858\u001b[0m \u001b[38;5;28;01melif\u001b[39;00m \u001b[38;5;28mself\u001b[39m\u001b[38;5;241m.\u001b[39m_variable_creation_fn \u001b[38;5;129;01mis\u001b[39;00m \u001b[38;5;129;01mnot\u001b[39;00m \u001b[38;5;28;01mNone\u001b[39;00m:\n\u001b[1;32m    859\u001b[0m   \u001b[38;5;66;03m# Release the lock early so that multiple threads can perform the call\u001b[39;00m\n\u001b[1;32m    860\u001b[0m   \u001b[38;5;66;03m# in parallel.\u001b[39;00m\n\u001b[1;32m    861\u001b[0m   \u001b[38;5;28mself\u001b[39m\u001b[38;5;241m.\u001b[39m_lock\u001b[38;5;241m.\u001b[39mrelease()\n",
            "File \u001b[0;32m/Library/Frameworks/Python.framework/Versions/3.11/lib/python3.11/site-packages/tensorflow/python/eager/polymorphic_function/tracing_compiler.py:148\u001b[0m, in \u001b[0;36mTracingCompiler.__call__\u001b[0;34m(self, *args, **kwargs)\u001b[0m\n\u001b[1;32m    145\u001b[0m \u001b[38;5;28;01mwith\u001b[39;00m \u001b[38;5;28mself\u001b[39m\u001b[38;5;241m.\u001b[39m_lock:\n\u001b[1;32m    146\u001b[0m   (concrete_function,\n\u001b[1;32m    147\u001b[0m    filtered_flat_args) \u001b[38;5;241m=\u001b[39m \u001b[38;5;28mself\u001b[39m\u001b[38;5;241m.\u001b[39m_maybe_define_function(args, kwargs)\n\u001b[0;32m--> 148\u001b[0m \u001b[38;5;28;01mreturn\u001b[39;00m \u001b[43mconcrete_function\u001b[49m\u001b[38;5;241;43m.\u001b[39;49m\u001b[43m_call_flat\u001b[49m\u001b[43m(\u001b[49m\n\u001b[1;32m    149\u001b[0m \u001b[43m    \u001b[49m\u001b[43mfiltered_flat_args\u001b[49m\u001b[43m,\u001b[49m\u001b[43m \u001b[49m\u001b[43mcaptured_inputs\u001b[49m\u001b[38;5;241;43m=\u001b[39;49m\u001b[43mconcrete_function\u001b[49m\u001b[38;5;241;43m.\u001b[39;49m\u001b[43mcaptured_inputs\u001b[49m\u001b[43m)\u001b[49m\n",
            "File \u001b[0;32m/Library/Frameworks/Python.framework/Versions/3.11/lib/python3.11/site-packages/tensorflow/python/eager/polymorphic_function/monomorphic_function.py:1349\u001b[0m, in \u001b[0;36mConcreteFunction._call_flat\u001b[0;34m(self, args, captured_inputs)\u001b[0m\n\u001b[1;32m   1345\u001b[0m possible_gradient_type \u001b[38;5;241m=\u001b[39m gradients_util\u001b[38;5;241m.\u001b[39mPossibleTapeGradientTypes(args)\n\u001b[1;32m   1346\u001b[0m \u001b[38;5;28;01mif\u001b[39;00m (possible_gradient_type \u001b[38;5;241m==\u001b[39m gradients_util\u001b[38;5;241m.\u001b[39mPOSSIBLE_GRADIENT_TYPES_NONE\n\u001b[1;32m   1347\u001b[0m     \u001b[38;5;129;01mand\u001b[39;00m executing_eagerly):\n\u001b[1;32m   1348\u001b[0m   \u001b[38;5;66;03m# No tape is watching; skip to running the function.\u001b[39;00m\n\u001b[0;32m-> 1349\u001b[0m   \u001b[38;5;28;01mreturn\u001b[39;00m \u001b[38;5;28mself\u001b[39m\u001b[38;5;241m.\u001b[39m_build_call_outputs(\u001b[38;5;28;43mself\u001b[39;49m\u001b[38;5;241;43m.\u001b[39;49m\u001b[43m_inference_function\u001b[49m\u001b[43m(\u001b[49m\u001b[38;5;241;43m*\u001b[39;49m\u001b[43margs\u001b[49m\u001b[43m)\u001b[49m)\n\u001b[1;32m   1350\u001b[0m forward_backward \u001b[38;5;241m=\u001b[39m \u001b[38;5;28mself\u001b[39m\u001b[38;5;241m.\u001b[39m_select_forward_and_backward_functions(\n\u001b[1;32m   1351\u001b[0m     args,\n\u001b[1;32m   1352\u001b[0m     possible_gradient_type,\n\u001b[1;32m   1353\u001b[0m     executing_eagerly)\n\u001b[1;32m   1354\u001b[0m forward_function, args_with_tangents \u001b[38;5;241m=\u001b[39m forward_backward\u001b[38;5;241m.\u001b[39mforward()\n",
            "File \u001b[0;32m/Library/Frameworks/Python.framework/Versions/3.11/lib/python3.11/site-packages/tensorflow/python/eager/polymorphic_function/atomic_function.py:196\u001b[0m, in \u001b[0;36mAtomicFunction.__call__\u001b[0;34m(self, *args)\u001b[0m\n\u001b[1;32m    194\u001b[0m \u001b[38;5;28;01mwith\u001b[39;00m record\u001b[38;5;241m.\u001b[39mstop_recording():\n\u001b[1;32m    195\u001b[0m   \u001b[38;5;28;01mif\u001b[39;00m \u001b[38;5;28mself\u001b[39m\u001b[38;5;241m.\u001b[39m_bound_context\u001b[38;5;241m.\u001b[39mexecuting_eagerly():\n\u001b[0;32m--> 196\u001b[0m     outputs \u001b[38;5;241m=\u001b[39m \u001b[38;5;28;43mself\u001b[39;49m\u001b[38;5;241;43m.\u001b[39;49m\u001b[43m_bound_context\u001b[49m\u001b[38;5;241;43m.\u001b[39;49m\u001b[43mcall_function\u001b[49m\u001b[43m(\u001b[49m\n\u001b[1;32m    197\u001b[0m \u001b[43m        \u001b[49m\u001b[38;5;28;43mself\u001b[39;49m\u001b[38;5;241;43m.\u001b[39;49m\u001b[43mname\u001b[49m\u001b[43m,\u001b[49m\n\u001b[1;32m    198\u001b[0m \u001b[43m        \u001b[49m\u001b[38;5;28;43mlist\u001b[39;49m\u001b[43m(\u001b[49m\u001b[43margs\u001b[49m\u001b[43m)\u001b[49m\u001b[43m,\u001b[49m\n\u001b[1;32m    199\u001b[0m \u001b[43m        \u001b[49m\u001b[38;5;28;43mlen\u001b[39;49m\u001b[43m(\u001b[49m\u001b[38;5;28;43mself\u001b[39;49m\u001b[38;5;241;43m.\u001b[39;49m\u001b[43mfunction_type\u001b[49m\u001b[38;5;241;43m.\u001b[39;49m\u001b[43mflat_outputs\u001b[49m\u001b[43m)\u001b[49m\u001b[43m,\u001b[49m\n\u001b[1;32m    200\u001b[0m \u001b[43m    \u001b[49m\u001b[43m)\u001b[49m\n\u001b[1;32m    201\u001b[0m   \u001b[38;5;28;01melse\u001b[39;00m:\n\u001b[1;32m    202\u001b[0m     outputs \u001b[38;5;241m=\u001b[39m make_call_op_in_graph(\u001b[38;5;28mself\u001b[39m, \u001b[38;5;28mlist\u001b[39m(args))\n",
            "File \u001b[0;32m/Library/Frameworks/Python.framework/Versions/3.11/lib/python3.11/site-packages/tensorflow/python/eager/context.py:1457\u001b[0m, in \u001b[0;36mContext.call_function\u001b[0;34m(self, name, tensor_inputs, num_outputs)\u001b[0m\n\u001b[1;32m   1455\u001b[0m cancellation_context \u001b[38;5;241m=\u001b[39m cancellation\u001b[38;5;241m.\u001b[39mcontext()\n\u001b[1;32m   1456\u001b[0m \u001b[38;5;28;01mif\u001b[39;00m cancellation_context \u001b[38;5;129;01mis\u001b[39;00m \u001b[38;5;28;01mNone\u001b[39;00m:\n\u001b[0;32m-> 1457\u001b[0m   outputs \u001b[38;5;241m=\u001b[39m \u001b[43mexecute\u001b[49m\u001b[38;5;241;43m.\u001b[39;49m\u001b[43mexecute\u001b[49m\u001b[43m(\u001b[49m\n\u001b[1;32m   1458\u001b[0m \u001b[43m      \u001b[49m\u001b[43mname\u001b[49m\u001b[38;5;241;43m.\u001b[39;49m\u001b[43mdecode\u001b[49m\u001b[43m(\u001b[49m\u001b[38;5;124;43m\"\u001b[39;49m\u001b[38;5;124;43mutf-8\u001b[39;49m\u001b[38;5;124;43m\"\u001b[39;49m\u001b[43m)\u001b[49m\u001b[43m,\u001b[49m\n\u001b[1;32m   1459\u001b[0m \u001b[43m      \u001b[49m\u001b[43mnum_outputs\u001b[49m\u001b[38;5;241;43m=\u001b[39;49m\u001b[43mnum_outputs\u001b[49m\u001b[43m,\u001b[49m\n\u001b[1;32m   1460\u001b[0m \u001b[43m      \u001b[49m\u001b[43minputs\u001b[49m\u001b[38;5;241;43m=\u001b[39;49m\u001b[43mtensor_inputs\u001b[49m\u001b[43m,\u001b[49m\n\u001b[1;32m   1461\u001b[0m \u001b[43m      \u001b[49m\u001b[43mattrs\u001b[49m\u001b[38;5;241;43m=\u001b[39;49m\u001b[43mattrs\u001b[49m\u001b[43m,\u001b[49m\n\u001b[1;32m   1462\u001b[0m \u001b[43m      \u001b[49m\u001b[43mctx\u001b[49m\u001b[38;5;241;43m=\u001b[39;49m\u001b[38;5;28;43mself\u001b[39;49m\u001b[43m,\u001b[49m\n\u001b[1;32m   1463\u001b[0m \u001b[43m  \u001b[49m\u001b[43m)\u001b[49m\n\u001b[1;32m   1464\u001b[0m \u001b[38;5;28;01melse\u001b[39;00m:\n\u001b[1;32m   1465\u001b[0m   outputs \u001b[38;5;241m=\u001b[39m execute\u001b[38;5;241m.\u001b[39mexecute_with_cancellation(\n\u001b[1;32m   1466\u001b[0m       name\u001b[38;5;241m.\u001b[39mdecode(\u001b[38;5;124m\"\u001b[39m\u001b[38;5;124mutf-8\u001b[39m\u001b[38;5;124m\"\u001b[39m),\n\u001b[1;32m   1467\u001b[0m       num_outputs\u001b[38;5;241m=\u001b[39mnum_outputs,\n\u001b[0;32m   (...)\u001b[0m\n\u001b[1;32m   1471\u001b[0m       cancellation_manager\u001b[38;5;241m=\u001b[39mcancellation_context,\n\u001b[1;32m   1472\u001b[0m   )\n",
            "File \u001b[0;32m/Library/Frameworks/Python.framework/Versions/3.11/lib/python3.11/site-packages/tensorflow/python/eager/execute.py:53\u001b[0m, in \u001b[0;36mquick_execute\u001b[0;34m(op_name, num_outputs, inputs, attrs, ctx, name)\u001b[0m\n\u001b[1;32m     51\u001b[0m \u001b[38;5;28;01mtry\u001b[39;00m:\n\u001b[1;32m     52\u001b[0m   ctx\u001b[38;5;241m.\u001b[39mensure_initialized()\n\u001b[0;32m---> 53\u001b[0m   tensors \u001b[38;5;241m=\u001b[39m \u001b[43mpywrap_tfe\u001b[49m\u001b[38;5;241;43m.\u001b[39;49m\u001b[43mTFE_Py_Execute\u001b[49m\u001b[43m(\u001b[49m\u001b[43mctx\u001b[49m\u001b[38;5;241;43m.\u001b[39;49m\u001b[43m_handle\u001b[49m\u001b[43m,\u001b[49m\u001b[43m \u001b[49m\u001b[43mdevice_name\u001b[49m\u001b[43m,\u001b[49m\u001b[43m \u001b[49m\u001b[43mop_name\u001b[49m\u001b[43m,\u001b[49m\n\u001b[1;32m     54\u001b[0m \u001b[43m                                      \u001b[49m\u001b[43minputs\u001b[49m\u001b[43m,\u001b[49m\u001b[43m \u001b[49m\u001b[43mattrs\u001b[49m\u001b[43m,\u001b[49m\u001b[43m \u001b[49m\u001b[43mnum_outputs\u001b[49m\u001b[43m)\u001b[49m\n\u001b[1;32m     55\u001b[0m \u001b[38;5;28;01mexcept\u001b[39;00m core\u001b[38;5;241m.\u001b[39m_NotOkStatusException \u001b[38;5;28;01mas\u001b[39;00m e:\n\u001b[1;32m     56\u001b[0m   \u001b[38;5;28;01mif\u001b[39;00m name \u001b[38;5;129;01mis\u001b[39;00m \u001b[38;5;129;01mnot\u001b[39;00m \u001b[38;5;28;01mNone\u001b[39;00m:\n",
            "\u001b[0;31mKeyboardInterrupt\u001b[0m: "
          ]
        }
      ],
      "source": [
        "# Training the model\n",
        "history = model.fit(train_generator,\n",
        "    steps_per_epoch=train_generator.samples // batch_size,\n",
        "    validation_data=validation_generator,\n",
        "    validation_steps=validation_generator.samples // batch_size,\n",
        "    epochs=100,\n",
        "    callbacks=[cp_callback, es_callback]\n",
        ")"
      ]
    },
    {
      "cell_type": "markdown",
      "metadata": {},
      "source": []
    }
  ],
  "metadata": {
    "colab": {
      "provenance": []
    },
    "kernelspec": {
      "display_name": "Python 3",
      "name": "python3"
    },
    "language_info": {
      "codemirror_mode": {
        "name": "ipython",
        "version": 3
      },
      "file_extension": ".py",
      "mimetype": "text/x-python",
      "name": "python",
      "nbconvert_exporter": "python",
      "pygments_lexer": "ipython3",
      "version": "3.11.1"
    }
  },
  "nbformat": 4,
  "nbformat_minor": 0
}
